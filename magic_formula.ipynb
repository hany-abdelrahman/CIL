{
  "nbformat": 4,
  "nbformat_minor": 0,
  "metadata": {
    "colab": {
      "provenance": [],
      "authorship_tag": "ABX9TyPy0sr5i4ugnvnHt4N/cyia",
      "include_colab_link": true
    },
    "kernelspec": {
      "name": "python3",
      "display_name": "Python 3"
    },
    "language_info": {
      "name": "python"
    }
  },
  "cells": [
    {
      "cell_type": "markdown",
      "metadata": {
        "id": "view-in-github",
        "colab_type": "text"
      },
      "source": [
        "<a href=\"https://colab.research.google.com/github/hany-abdelrahman/CIL/blob/master/magic_formula.ipynb\" target=\"_parent\"><img src=\"https://colab.research.google.com/assets/colab-badge.svg\" alt=\"Open In Colab\"/></a>"
      ]
    },
    {
      "cell_type": "code",
      "execution_count": null,
      "metadata": {
        "id": "xVhz1fnRz-Qi"
      },
      "outputs": [],
      "source": []
    },
    {
      "cell_type": "code",
      "source": [
        "import requests\n",
        "import json\n",
        "import pandas as pd\n",
        "MILLION=1e6\n",
        "BILLION=1e9\n",
        "API_KEY='QSIk2fMOAiW0mPVakMhF7ZwgkJeVSHLC'\n",
        "MARKET_LOWER_BOUND=10*MILLION\n",
        "MARKET_UPPER_BOUND=70*MILLION\n",
        "COUNTRY='US'\n",
        "ALLOWED_SECTORS = ['Industrials', 'Technology', 'Consumer Cyclical',\n",
        " 'Healthcare', 'Consumer Defensive', 'Communication Services', 'Energy',\n",
        " 'Real Estate', 'Basic Materials']\n",
        "def get_jsonparsed_data(url):\n",
        "  \"\"\"Fetches JSON data from the given URL and returns it as a Python object.\n",
        "\n",
        "  Args:\n",
        "      url: The URL to fetch data from.\n",
        "\n",
        "  Returns:\n",
        "      A Python object representing the parsed JSON data.\n",
        "  \"\"\"\n",
        "  response = requests.get(url)\n",
        "  response.raise_for_status()  # Raise an exception for non-200 status codes\n",
        "  return json.loads(response.text)\n",
        "\n",
        "for sector in ALLOWED_SECTORS:\n",
        "  # Define URL for stock screener with specific parameters\n",
        "  url = (\"https://financialmodelingprep.com/api/v3/stock-screener\"\n",
        "  f\"?marketCapMoreThan={MARKET_LOWER_BOUND}\"\n",
        "  f\"&isETF=false\"\n",
        "  f\"&isFund=false\"\n",
        "  f\"&sector={sector}\"\n",
        "  f\"&marketCapLowerThan={MARKET_UPPER_BOUND}\"\n",
        "  f\"&country={COUNTRY}\"\n",
        "  f\"&apikey={API_KEY}\")  # Replace with your actual API key\n",
        "  # Fetch and print parsed JSON data\n",
        "  data = get_jsonparsed_data(url)\n",
        "  df = pd.json_normalize(data)\n",
        "  # print(df[['symbol', 'sector']])\n",
        "  # print(json.dumps(data[0], indent=2))\n",
        "  print(f\"Sector: {sector}, count: {df.size}\")\n",
        "  # print(df['sector'].unique())\n"
      ],
      "metadata": {
        "colab": {
          "base_uri": "https://localhost:8080/"
        },
        "id": "A9xUehoV0YQt",
        "outputId": "b19f5174-ce76-4e58-8a1d-7fa0505c46c5"
      },
      "execution_count": 3,
      "outputs": [
        {
          "output_type": "stream",
          "name": "stdout",
          "text": [
            "Sector: Industrials, count: 1845\n",
            "Sector: Technology, count: 2640\n",
            "Sector: Consumer Cyclical, count: 1470\n",
            "Sector: Healthcare, count: 5100\n",
            "Sector: Consumer Defensive, count: 795\n",
            "Sector: Communication Services, count: 885\n",
            "Sector: Energy, count: 705\n",
            "Sector: Real Estate, count: 525\n",
            "Sector: Basic Materials, count: 930\n"
          ]
        }
      ]
    },
    {
      "cell_type": "markdown",
      "source": [],
      "metadata": {
        "id": "vKun3eKW0oZl"
      }
    }
  ]
}